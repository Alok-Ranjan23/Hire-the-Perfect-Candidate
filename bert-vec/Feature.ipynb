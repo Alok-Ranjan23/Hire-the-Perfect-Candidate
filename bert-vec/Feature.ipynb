{
 "cells": [
  {
   "cell_type": "code",
   "execution_count": 1,
   "id": "d2b64bb3",
   "metadata": {},
   "outputs": [
    {
     "name": "stdout",
     "output_type": "stream",
     "text": [
      "machine learn engineering 13585abc knowledge innovation youll focus research building design selfrunning artificial intelligence ai system automate predictive model responsible design create ai algorithm capable learn make prediction define machine learn ml experience qualification  bachelor master degree mention course per requirement  02 year work experience provide analytics solution commercial set technical expertise must  machine learn cluster logistic regression classification  different library scikit learn numpy panda matplotlib seaborn  deep learning framework tensorflow kera pytorch application neural network model cnn rnn gans  familiar natural language processing associate library like nltk spacy beautiful soup  pyspark hadoop big data pipeline  data science methodology exploratory data analysis feature engineering model selection deployment model scale model evaluation  deploy nlp architecture computer vision model production consider plus  transformer advance technique nlp  familiar computer vision model object detection ocr opencv  analytical tool reduce medium data transfer  web framework like django database like mongodb nosql graphql  sql firebase aws azure google cloud platform job type full time\n"
     ]
    },
    {
     "data": {
      "application/vnd.jupyter.widget-view+json": {
       "model_id": "b531471f03644685a5fa64c49b8e5bf3",
       "version_major": 2,
       "version_minor": 0
      },
      "text/plain": [
       "Downloading:   0%|          | 0.00/391 [00:00<?, ?B/s]"
      ]
     },
     "metadata": {},
     "output_type": "display_data"
    },
    {
     "data": {
      "application/vnd.jupyter.widget-view+json": {
       "model_id": "0b201ab8946e4390ab0a91b14efa9f75",
       "version_major": 2,
       "version_minor": 0
      },
      "text/plain": [
       "Downloading:   0%|          | 0.00/3.95k [00:00<?, ?B/s]"
      ]
     },
     "metadata": {},
     "output_type": "display_data"
    },
    {
     "data": {
      "application/vnd.jupyter.widget-view+json": {
       "model_id": "08e436232c284b40aef393fa001fd356",
       "version_major": 2,
       "version_minor": 0
      },
      "text/plain": [
       "Downloading:   0%|          | 0.00/2.00 [00:00<?, ?B/s]"
      ]
     },
     "metadata": {},
     "output_type": "display_data"
    },
    {
     "data": {
      "application/vnd.jupyter.widget-view+json": {
       "model_id": "8da83df9a4c942d895f2375d4861598c",
       "version_major": 2,
       "version_minor": 0
      },
      "text/plain": [
       "Downloading:   0%|          | 0.00/625 [00:00<?, ?B/s]"
      ]
     },
     "metadata": {},
     "output_type": "display_data"
    },
    {
     "data": {
      "application/vnd.jupyter.widget-view+json": {
       "model_id": "a5951b76d5ca41128a70abef044e48b4",
       "version_major": 2,
       "version_minor": 0
      },
      "text/plain": [
       "Downloading:   0%|          | 0.00/122 [00:00<?, ?B/s]"
      ]
     },
     "metadata": {},
     "output_type": "display_data"
    },
    {
     "data": {
      "application/vnd.jupyter.widget-view+json": {
       "model_id": "892db2cae8654d868b742868ac0ec1b8",
       "version_major": 2,
       "version_minor": 0
      },
      "text/plain": [
       "Downloading:   0%|          | 0.00/229 [00:00<?, ?B/s]"
      ]
     },
     "metadata": {},
     "output_type": "display_data"
    },
    {
     "data": {
      "application/vnd.jupyter.widget-view+json": {
       "model_id": "29ecf16e5d5245cd8582ef1210adf79e",
       "version_major": 2,
       "version_minor": 0
      },
      "text/plain": [
       "Downloading:   0%|          | 0.00/438M [00:00<?, ?B/s]"
      ]
     },
     "metadata": {},
     "output_type": "display_data"
    },
    {
     "data": {
      "application/vnd.jupyter.widget-view+json": {
       "model_id": "bc0dfd2076504b78a0621c9982f16af5",
       "version_major": 2,
       "version_minor": 0
      },
      "text/plain": [
       "Downloading:   0%|          | 0.00/53.0 [00:00<?, ?B/s]"
      ]
     },
     "metadata": {},
     "output_type": "display_data"
    },
    {
     "data": {
      "application/vnd.jupyter.widget-view+json": {
       "model_id": "01db5b8da4f2442bbb1616b70a6030c3",
       "version_major": 2,
       "version_minor": 0
      },
      "text/plain": [
       "Downloading:   0%|          | 0.00/112 [00:00<?, ?B/s]"
      ]
     },
     "metadata": {},
     "output_type": "display_data"
    },
    {
     "data": {
      "application/vnd.jupyter.widget-view+json": {
       "model_id": "baf0eda6d54d45b386c9ca2ef187ef10",
       "version_major": 2,
       "version_minor": 0
      },
      "text/plain": [
       "Downloading:   0%|          | 0.00/466k [00:00<?, ?B/s]"
      ]
     },
     "metadata": {},
     "output_type": "display_data"
    },
    {
     "data": {
      "application/vnd.jupyter.widget-view+json": {
       "model_id": "ed4b6b5e67134754b35dcf4621ce9c1b",
       "version_major": 2,
       "version_minor": 0
      },
      "text/plain": [
       "Downloading:   0%|          | 0.00/399 [00:00<?, ?B/s]"
      ]
     },
     "metadata": {},
     "output_type": "display_data"
    },
    {
     "data": {
      "application/vnd.jupyter.widget-view+json": {
       "model_id": "79ceeab94c0b4e2eaf1a5b8254210e22",
       "version_major": 2,
       "version_minor": 0
      },
      "text/plain": [
       "Downloading:   0%|          | 0.00/232k [00:00<?, ?B/s]"
      ]
     },
     "metadata": {},
     "output_type": "display_data"
    },
    {
     "data": {
      "application/vnd.jupyter.widget-view+json": {
       "model_id": "5131e7f5b27540b398794b79a804ae72",
       "version_major": 2,
       "version_minor": 0
      },
      "text/plain": [
       "Downloading:   0%|          | 0.00/190 [00:00<?, ?B/s]"
      ]
     },
     "metadata": {},
     "output_type": "display_data"
    }
   ],
   "source": [
    "import pandas as pd\n",
    "import numpy as np\n",
    "from processing import train_data,test_data, job_req\n",
    "import re\n",
    "#from sklearn.feature_extraction.text import TFidfVectorizer\n",
    "#from sklearn.metrics.pairwise import cosine_similarity\n",
    "from sentence_transformers import SentenceTransformer\n",
    "sbert_model = SentenceTransformer('bert-base-nli-mean-tokens')"
   ]
  },
  {
   "cell_type": "code",
   "execution_count": 2,
   "id": "8535a7bf",
   "metadata": {},
   "outputs": [
    {
     "name": "stdout",
     "output_type": "stream",
     "text": [
      "machine learn engineering 13585abc knowledge innovation youll focus research building design selfrunning artificial intelligence ai system automate predictive model responsible design create ai algorithm capable learn make prediction define machine learn ml experience qualification  bachelor master degree mention course per requirement  02 year work experience provide analytics solution commercial set technical expertise must  machine learn cluster logistic regression classification  different library scikit learn numpy panda matplotlib seaborn  deep learning framework tensorflow kera pytorch application neural network model cnn rnn gans  familiar natural language processing associate library like nltk spacy beautiful soup  pyspark hadoop big data pipeline  data science methodology exploratory data analysis feature engineering model selection deployment model scale model evaluation  deploy nlp architecture computer vision model production consider plus  transformer advance technique nlp  familiar computer vision model object detection ocr opencv  analytical tool reduce medium data transfer  web framework like django database like mongodb nosql graphql  sql firebase aws azure google cloud platform job type full time\n"
     ]
    }
   ],
   "source": [
    "print(job_req)"
   ]
  },
  {
   "cell_type": "code",
   "execution_count": 3,
   "id": "3fdb9b2d",
   "metadata": {},
   "outputs": [],
   "source": [
    "import sklearn"
   ]
  },
  {
   "cell_type": "code",
   "execution_count": 4,
   "id": "23a6966c",
   "metadata": {},
   "outputs": [],
   "source": [
    "import sklearn.feature_extraction.text as extract_feature"
   ]
  },
  {
   "cell_type": "code",
   "execution_count": 5,
   "id": "097564e0",
   "metadata": {},
   "outputs": [],
   "source": [
    "doc_cleaned_train = pd.DataFrame(train_data,columns=['documents'])\n",
    "doc_cleaned_test = pd.DataFrame(test_data,columns=['documents'])"
   ]
  },
  {
   "cell_type": "code",
   "execution_count": 6,
   "id": "be9b3ca4",
   "metadata": {},
   "outputs": [
    {
     "name": "stdout",
     "output_type": "stream",
     "text": [
      "Size:  (90, 1)\n",
      "Size:  (60, 1)\n"
     ]
    }
   ],
   "source": [
    "print(\"Size: \", doc_cleaned_train.shape)\n",
    "print(\"Size: \", doc_cleaned_test.shape)"
   ]
  },
  {
   "cell_type": "code",
   "execution_count": 7,
   "id": "08959ca4",
   "metadata": {},
   "outputs": [],
   "source": [
    "doc_cleaned_trainX = doc_cleaned_train.append(pd.DataFrame([job_req],\n",
    "                                                          columns=['documents']),ignore_index=True)"
   ]
  },
  {
   "cell_type": "code",
   "execution_count": 8,
   "id": "4dbaabe6",
   "metadata": {},
   "outputs": [
    {
     "data": {
      "text/plain": [
       "(91, 1)"
      ]
     },
     "execution_count": 8,
     "metadata": {},
     "output_type": "execute_result"
    }
   ],
   "source": [
    "doc_cleaned_trainX.shape"
   ]
  },
  {
   "cell_type": "code",
   "execution_count": 9,
   "id": "ac56eda9",
   "metadata": {},
   "outputs": [
    {
     "data": {
      "text/html": [
       "<div>\n",
       "<style scoped>\n",
       "    .dataframe tbody tr th:only-of-type {\n",
       "        vertical-align: middle;\n",
       "    }\n",
       "\n",
       "    .dataframe tbody tr th {\n",
       "        vertical-align: top;\n",
       "    }\n",
       "\n",
       "    .dataframe thead th {\n",
       "        text-align: right;\n",
       "    }\n",
       "</style>\n",
       "<table border=\"1\" class=\"dataframe\">\n",
       "  <thead>\n",
       "    <tr style=\"text-align: right;\">\n",
       "      <th></th>\n",
       "      <th>documents</th>\n",
       "    </tr>\n",
       "  </thead>\n",
       "  <tbody>\n",
       "    <tr>\n",
       "      <th>86</th>\n",
       "      <td>shawn buffet professional profile employment h...</td>\n",
       "    </tr>\n",
       "    <tr>\n",
       "      <th>87</th>\n",
       "      <td>work experience hsbc bank data analyst apr 202...</td>\n",
       "    </tr>\n",
       "    <tr>\n",
       "      <th>88</th>\n",
       "      <td>stella thatcher executive profile work experie...</td>\n",
       "    </tr>\n",
       "    <tr>\n",
       "      <th>89</th>\n",
       "      <td>work experience hcl junior sdedata machine lea...</td>\n",
       "    </tr>\n",
       "    <tr>\n",
       "      <th>90</th>\n",
       "      <td>machine learn engineering 13585abc knowledge i...</td>\n",
       "    </tr>\n",
       "  </tbody>\n",
       "</table>\n",
       "</div>"
      ],
      "text/plain": [
       "                                            documents\n",
       "86  shawn buffet professional profile employment h...\n",
       "87  work experience hsbc bank data analyst apr 202...\n",
       "88  stella thatcher executive profile work experie...\n",
       "89  work experience hcl junior sdedata machine lea...\n",
       "90  machine learn engineering 13585abc knowledge i..."
      ]
     },
     "execution_count": 9,
     "metadata": {},
     "output_type": "execute_result"
    }
   ],
   "source": [
    "doc_cleaned_trainX.tail()"
   ]
  },
  {
   "cell_type": "code",
   "execution_count": 10,
   "id": "1063a17d",
   "metadata": {},
   "outputs": [],
   "source": [
    "bert_vec_train = sbert_model.encode(doc_cleaned_trainX['documents'])"
   ]
  },
  {
   "cell_type": "code",
   "execution_count": 11,
   "id": "624a5cf7",
   "metadata": {},
   "outputs": [],
   "source": [
    "bert_vec_test = sbert_model.encode(doc_cleaned_test['documents'])"
   ]
  },
  {
   "cell_type": "code",
   "execution_count": 13,
   "id": "2b69fa42",
   "metadata": {},
   "outputs": [
    {
     "name": "stdout",
     "output_type": "stream",
     "text": [
      "<class 'numpy.ndarray'> (91, 768)\n"
     ]
    }
   ],
   "source": [
    "print(type(bert_vec_train),bert_vec_train.shape)"
   ]
  },
  {
   "cell_type": "code",
   "execution_count": 14,
   "id": "6fa7ecf6",
   "metadata": {},
   "outputs": [
    {
     "name": "stdout",
     "output_type": "stream",
     "text": [
      "<class 'numpy.ndarray'> (60, 768)\n"
     ]
    }
   ],
   "source": [
    "print(type(bert_vec_test),bert_vec_test.shape)"
   ]
  },
  {
   "cell_type": "code",
   "execution_count": 19,
   "id": "d6bfc55c",
   "metadata": {},
   "outputs": [
    {
     "name": "stdout",
     "output_type": "stream",
     "text": [
      "[-5.36280990e-01  6.02697611e-01  1.48722613e+00  5.63582122e-01\n",
      "  4.30839419e-01 -5.25903285e-01  2.36262396e-01 -4.47528899e-01\n",
      "  4.63868678e-01 -7.14169919e-01  1.55740470e-01  4.06883001e-01\n",
      "  3.35456103e-01  3.37730050e-02 -9.01125491e-01  3.99030626e-01\n",
      " -2.36999914e-01 -5.44585049e-01  9.14513230e-01 -2.98524380e-01\n",
      " -3.88934046e-01 -6.61903739e-01  6.63945973e-01  3.54603380e-01\n",
      "  5.44296622e-01  7.48070598e-01 -4.89221394e-01  3.87584716e-01\n",
      " -1.05052459e+00  4.70782518e-01 -1.23949718e+00  3.15410763e-01\n",
      " -8.79566073e-02 -6.50467992e-01 -3.15329522e-01  1.08649278e+00\n",
      "  5.25430262e-01  5.09093463e-01  5.93532860e-01 -7.97064826e-02\n",
      " -2.38123626e-01 -2.18719408e-01  5.07087037e-02 -3.78576845e-01\n",
      " -1.64505339e+00 -4.95772064e-01 -1.31360543e+00  1.21687325e-02\n",
      "  4.60826904e-01 -1.60238159e+00  4.95007075e-02  1.14434206e+00\n",
      "  4.59291995e-01 -4.95415807e-01 -4.16627586e-01  7.22935140e-01\n",
      "  5.45818567e-01 -1.28577077e+00 -3.43098551e-01 -4.63359207e-01\n",
      " -1.42241073e+00  6.66451752e-01  9.00672153e-02  1.66521192e-01\n",
      "  9.80386809e-02  2.98315823e-01  1.85027644e-02 -5.32556832e-01\n",
      " -1.28682733e+00 -4.99980062e-01 -2.93224126e-01 -8.14369977e-01\n",
      " -9.80243564e-01  8.80028978e-02 -7.30287373e-01 -5.43571591e-01\n",
      " -4.18979108e-01  7.69183517e-01  1.06996584e+00  1.11929619e+00\n",
      " -1.67031080e-01 -6.03378937e-02  4.15557921e-01 -6.85184479e-01\n",
      "  9.79007959e-01  5.38020849e-01  7.60898650e-01  3.65991563e-01\n",
      " -7.20201075e-01  1.02263130e-01  2.79380918e-01  2.23514125e-01\n",
      "  4.71316129e-01 -2.09302902e-01 -6.89480245e-01  1.45698324e-01\n",
      " -2.84963727e-01  3.64704490e-01 -4.72173572e-01  4.61068392e-01\n",
      " -3.74761373e-01 -6.44202232e-02 -4.40171719e-01  2.58929193e-01\n",
      " -2.14871958e-01  1.93267822e-01 -4.08827364e-01 -5.57454944e-01\n",
      " -1.01330209e+00  1.23745836e-01  9.97201324e-01 -1.78886950e-01\n",
      " -1.46064550e-01  1.04950272e-01 -1.15657255e-01 -6.17245972e-01\n",
      " -4.64373857e-01  1.01379263e+00  1.06917071e+00  2.47976556e-01\n",
      " -8.48013759e-02 -6.67828262e-01 -1.21932261e-01 -1.76205263e-01\n",
      "  3.08290869e-01  9.42730248e-01  2.61450976e-01  6.14781737e-01\n",
      "  1.78471729e-01 -8.20391551e-02  3.23170573e-01  6.19130194e-01\n",
      "  3.64130348e-01 -1.60833195e-01  2.92731494e-01  6.56028390e-01\n",
      " -2.62079954e-01 -3.78384739e-01  5.34068644e-01  1.87352151e-01\n",
      "  1.85613453e-01 -4.69130754e-01  9.56774414e-01 -8.35315585e-01\n",
      " -4.22743887e-01 -1.64521754e-01  9.68215242e-02 -6.81399524e-01\n",
      "  3.28150332e-01  2.11651713e-01  6.60234019e-02  5.62241673e-01\n",
      " -1.37061322e+00 -2.23509908e-01 -4.05920327e-01 -9.80831087e-02\n",
      " -9.12394404e-01 -6.14018798e-01  7.71772921e-01  3.94196421e-01\n",
      " -8.33772182e-01  8.85785103e-01 -6.02581441e-01  7.50331640e-01\n",
      "  2.19733432e-01 -1.02761173e+00  1.31163728e+00 -9.10064578e-01\n",
      "  1.20721869e-01 -7.01093003e-02 -9.71111596e-01  6.67283714e-01\n",
      "  1.84947407e+00  4.34649318e-01  1.15927351e+00  1.45616248e-01\n",
      "  6.35180831e-01 -7.07851410e-01 -5.57118058e-01 -6.16726875e-01\n",
      " -1.12086691e-01  3.45164627e-01 -9.88698125e-01  3.61066431e-01\n",
      "  4.36464101e-01 -9.24806967e-02  7.56273448e-01  3.15909423e-02\n",
      " -4.66280803e-02 -1.05316840e-01 -5.86083569e-02 -9.61913615e-02\n",
      "  1.70147583e-01 -4.88483101e-01 -3.15078974e-01  2.00816795e-01\n",
      " -9.04777229e-01  1.64993072e+00  4.38858539e-01  3.94652784e-01\n",
      " -3.41893822e-01 -2.48860866e-02 -1.51912272e-01 -6.28944874e-01\n",
      " -1.38608858e-01  3.29880387e-01  3.52509975e-01  1.95984095e-01\n",
      " -5.99699080e-01 -3.46966773e-01 -9.19065893e-01  5.34537248e-02\n",
      "  7.39732802e-01 -3.48431468e-01 -3.33369553e-01 -2.39965647e-01\n",
      "  3.01552564e-01 -6.61070868e-02  3.90843332e-01  4.74472582e-01\n",
      "  1.02132142e+00  3.84421438e-01 -4.49263841e-01  7.47729421e-01\n",
      " -5.27255058e-01  1.09520823e-01  7.35063493e-01 -6.05264187e-01\n",
      "  2.67307848e-01  4.39113110e-01  4.82024580e-01 -3.98146957e-01\n",
      " -9.11768228e-02  5.19852266e-02  2.18984678e-01  3.53983849e-01\n",
      " -1.05454099e+00  3.25544506e-01  5.59998214e-01  2.14187890e-01\n",
      " -1.27888611e-02  1.36368835e+00  1.22114144e-01  1.01385629e+00\n",
      " -4.98730928e-01 -4.17098939e-01  2.09778950e-01 -1.40101328e-01\n",
      " -7.98037648e-01 -8.36170763e-02 -1.05499256e+00  5.66531301e-01\n",
      " -1.41784048e-03 -5.66646159e-01 -5.77015877e-01  6.87669264e-03\n",
      " -6.00553639e-02  3.63587961e-02 -5.24909258e-01  7.82367051e-01\n",
      " -4.66368139e-01 -2.76332706e-01 -4.19786870e-02  4.80601281e-01\n",
      "  3.63224059e-01 -1.65398389e-01  2.62158141e-02  2.12630425e-02\n",
      " -2.21060902e-01  3.30446124e-01 -1.92955896e-01 -4.65129733e-01\n",
      " -7.97133520e-02  8.40736747e-01  3.12287182e-01 -5.68846345e-01\n",
      " -5.75968087e-01  8.52574036e-02  7.16910213e-02  3.62554610e-01\n",
      " -5.62652767e-01  4.59515661e-01 -5.16479671e-01 -7.20650852e-02\n",
      " -6.65346533e-02  7.64219686e-02  2.69259602e-01  1.75710261e-01\n",
      " -3.65612060e-01 -7.93605447e-02 -3.88315201e-01 -6.90072253e-02\n",
      " -4.45554376e-01  2.62654901e-01  3.77282858e-01 -3.57382894e-01\n",
      "  1.19077373e+00 -5.68233311e-01  9.87645268e-01 -4.04606909e-01\n",
      " -3.52089673e-01  7.53446519e-02 -9.46955323e-01  2.90984124e-01\n",
      "  3.23863924e-01 -3.43693942e-01  4.40473348e-01 -1.33559912e-01\n",
      " -1.22645772e+00 -8.42508435e-01 -3.25537473e-01 -6.14488780e-01\n",
      "  7.34432220e-01  5.72420180e-01  3.96932483e-01  2.19521210e-01\n",
      " -4.05336380e-01  7.18479306e-02  2.56913722e-01 -3.75719428e-01\n",
      " -2.79639870e-01  3.39531824e-02 -9.03953090e-02 -5.39968200e-02\n",
      "  8.76915812e-01 -5.78037612e-02  2.51554072e-01  5.03946058e-02\n",
      " -3.77656102e-01 -6.34067729e-02  8.38889062e-01  2.18243629e-01\n",
      "  7.16352761e-01  4.15942311e-01 -4.10209328e-01  5.15026033e-01\n",
      " -6.81295455e-01 -6.57018870e-02  3.31223458e-01 -7.96993136e-01\n",
      "  1.04899085e+00  3.43018502e-01 -1.07479431e-02  5.82634389e-01\n",
      "  6.38847575e-02 -9.84358191e-02  1.10652256e+00  7.75454342e-01\n",
      " -9.03685927e-01  3.14188480e-01  4.96822774e-01  6.74381480e-02\n",
      "  7.23885179e-01 -1.21434316e-01 -1.64928928e-01  3.87583613e-01\n",
      "  2.97364861e-01  2.52517700e-01 -8.87523234e-01  2.83477396e-01\n",
      " -1.28482714e-01  2.21536875e-01 -6.79969639e-02 -2.78056771e-01\n",
      " -4.47029173e-02  4.19309855e-01 -4.04033601e-01  4.30027656e-02\n",
      "  7.73764193e-01 -4.52187777e-01 -7.01290369e-02  1.69410512e-01\n",
      " -6.62427962e-01 -1.63851753e-01 -3.20909888e-01 -3.22987109e-01\n",
      " -5.92285037e-01 -3.78024042e-01 -3.75618041e-01 -4.51437712e-01\n",
      "  1.26276329e-01 -9.54412162e-01  6.47658706e-01 -3.65798138e-02\n",
      " -1.50102526e-01  1.14402071e-01  1.44178301e-01  3.13952655e-01\n",
      " -2.29462273e-02  1.98659018e-01  5.54216325e-01  5.13847768e-01\n",
      "  1.54462829e-01  1.64640173e-01  2.46660337e-01 -3.08178842e-01\n",
      " -4.90573943e-01 -2.40366235e-01 -1.90364569e-01 -4.32034910e-01\n",
      "  7.59498449e-03 -3.94465387e-01  1.14190805e+00 -5.93637884e-01\n",
      "  3.07808399e-01  2.05554202e-01  1.71086118e-01 -1.23503757e+00\n",
      "  6.02525398e-02 -9.35978949e-01 -1.93984970e-01 -6.66731358e-01\n",
      "  4.20471251e-01  2.51181930e-01 -3.37592214e-01  2.23877504e-01\n",
      "  1.80149719e-01 -9.04112607e-02 -1.06025887e+00  8.30914319e-01\n",
      " -4.22980964e-01 -1.01460144e-02  1.52745008e-01  1.32328629e-01\n",
      " -3.51510257e-01  2.24890351e-01 -3.68043572e-01 -9.45270211e-02\n",
      " -1.03785992e+00 -1.03949895e-02 -1.65556490e-01 -2.33098082e-02\n",
      " -7.06328332e-01  3.71401250e-01  7.64214516e-01  4.00694720e-02\n",
      "  4.90593970e-01 -5.73113918e-01  6.13320351e-01 -5.19244492e-01\n",
      " -2.44201913e-01 -1.22778308e+00  8.49715114e-01 -4.09734577e-01\n",
      " -1.68590873e-01  1.10027373e+00  1.97504237e-01  4.90840912e-01\n",
      "  6.72289312e-01  2.22235799e-01  9.63870525e-01 -1.01673210e+00\n",
      "  2.76266962e-01  2.19614968e-01  3.45190793e-01  1.38389826e-01\n",
      " -5.96999466e-01 -1.32088149e+00 -9.68621612e-01 -3.70220184e-01\n",
      "  7.26738945e-02 -3.93705219e-01  2.44401067e-01 -2.27526054e-01\n",
      "  3.85615051e-01  1.07753918e-01 -5.21936864e-02 -2.09940746e-01\n",
      " -2.07350031e-01 -9.87478733e-01  2.46763408e-01 -3.85908067e-01\n",
      "  4.63778913e-01  1.23547196e+00  1.53278366e-01 -1.49004555e+00\n",
      " -7.41465747e-01  4.10856426e-01  3.20747755e-02  9.37710330e-02\n",
      " -3.96497488e-01 -3.31335247e-01  4.09454219e-02  5.55651188e-01\n",
      "  5.34760952e-01 -7.18401253e-01 -1.68584026e-02  8.20614934e-01\n",
      " -3.51239473e-01 -1.81591108e-01  3.80044460e-01  1.80596292e-01\n",
      " -4.27791536e-01 -5.88268101e-01  4.77185875e-01 -2.70286143e-01\n",
      " -1.91180035e-01  3.23520720e-01  9.90616232e-02 -2.54272610e-01\n",
      "  1.15422618e+00  3.94899622e-02  4.56185266e-02  2.94647723e-01\n",
      "  1.36476696e+00  1.14407504e+00 -4.77181107e-01 -3.12021106e-01\n",
      "  4.61776778e-02  5.58827780e-02 -2.58624464e-01  3.64478886e-01\n",
      "  6.93599820e-01 -3.32578272e-01 -8.14452171e-01  5.39816558e-01\n",
      " -4.65321839e-02 -2.92048872e-01 -1.92504808e-01  1.07488409e-01\n",
      " -2.74129212e-01  7.18356147e-02  9.86685395e-01 -8.85514021e-01\n",
      " -1.14821471e-01  4.17713732e-01  1.41237170e-01  3.63440484e-01\n",
      "  4.26279716e-02  4.08051819e-01 -6.36175632e-01  1.45772770e-01\n",
      "  4.33377594e-01  4.22178209e-01 -1.69908404e-01 -5.54452598e-01\n",
      " -1.53845936e-01 -1.07136585e-01  3.65351021e-01 -7.33778298e-01\n",
      "  9.41962451e-02  2.08177984e-01  3.37818444e-01 -9.45262551e-01\n",
      " -4.97622758e-01  1.95614532e-01  1.62885696e-01 -3.83085877e-01\n",
      " -1.14368343e+00 -6.94707632e-01 -7.00142682e-01 -4.89332348e-01\n",
      "  3.40449989e-01  6.66710198e-01 -2.09456369e-01  2.71732092e-01\n",
      " -7.47455597e-01  4.46232080e-01  5.48621751e-02  4.03425902e-01\n",
      "  2.17573177e-02  8.85139525e-01 -4.54215169e-01  2.11394932e-02\n",
      " -3.29188794e-01 -6.22766435e-01 -2.22269937e-01 -6.28217280e-01\n",
      " -9.44372416e-01 -3.38049829e-01  2.23991081e-01  1.01861447e-01\n",
      "  2.02907294e-01  9.15173948e-01 -9.60035086e-01 -1.09526503e+00\n",
      "  6.61324561e-01 -9.48301017e-01  2.58108824e-01  4.08188522e-01\n",
      " -3.24091941e-01  7.51892745e-01 -1.81095973e-01  1.71647325e-01\n",
      "  1.35565093e-02  6.09602742e-02  6.45253062e-01  3.27894390e-01\n",
      " -2.98024505e-01  2.56695777e-01 -7.24766254e-01  1.86130237e-02\n",
      "  3.24111968e-01  5.37188232e-01  3.02479714e-01 -3.00884217e-01\n",
      "  2.09245935e-01  6.42572820e-01  3.75597209e-01 -6.35615647e-01\n",
      "  2.06455916e-01 -8.38804007e-01 -1.23938203e+00  6.76762342e-01\n",
      " -6.48379266e-01 -2.32611105e-01 -4.02892530e-01  2.10819334e-01\n",
      " -4.18296605e-01  7.27150798e-01  3.10000360e-01 -2.77221382e-01\n",
      " -1.98982358e-01  1.79622322e-01 -4.18012142e-01 -1.83954522e-01\n",
      " -4.54789996e-01 -6.08410001e-01 -2.71030635e-01  1.52371675e-01\n",
      "  4.23712105e-01  7.93996990e-01 -6.08318925e-01 -6.26323104e-01\n",
      "  1.52382135e-01 -7.56180227e-01 -1.32507741e-01  2.53269613e-01\n",
      " -1.23767734e+00  9.05638933e-02  1.99312970e-01 -1.70060426e-01\n",
      "  4.23920691e-01  4.34144437e-01 -1.36542737e-01  6.90444171e-01\n",
      " -7.38316715e-01  6.83116689e-02  7.97127746e-03  4.99130815e-01\n",
      " -8.65796447e-01  1.49738395e+00 -2.75559217e-01 -1.92950785e-01\n",
      "  6.11063659e-01 -6.79873765e-01  3.95575225e-01  3.00287694e-01\n",
      "  6.29093587e-01  7.39307404e-01  8.09761167e-01  1.00048506e+00\n",
      " -3.83693010e-01 -1.07134484e-01  4.77611780e-01  2.25869775e-01\n",
      " -3.49275082e-01  1.03474498e-01 -2.80470014e-01  7.72663116e-01\n",
      "  3.74817923e-02 -2.59354532e-01  3.53341907e-01 -5.23404002e-01\n",
      "  8.79142344e-01  3.25453550e-01  2.25661367e-01  2.50611752e-01\n",
      "  5.43027930e-02 -3.17164540e-01  5.79044938e-01 -4.12440717e-01\n",
      " -4.88138884e-01 -8.10585320e-01  1.00496089e+00 -5.66999018e-02\n",
      "  2.42325038e-01  3.92080694e-01  1.79152593e-01 -8.52786779e-01\n",
      " -3.31076562e-01 -4.21217084e-01 -6.76598167e-04 -8.97360742e-01\n",
      "  6.87775075e-01  1.17890522e-01 -6.78824425e-01  1.26959309e-01\n",
      " -1.76862441e-02  1.03859830e+00  3.24439287e-01 -5.94484806e-02\n",
      " -3.39217484e-01 -6.38445497e-01 -2.78358787e-01 -4.32253718e-01\n",
      " -2.96087027e-01  1.19007029e-01  3.83862555e-01  1.67671055e-01\n",
      " -7.23088622e-01  8.39327097e-01 -6.14902973e-01 -3.02129060e-01\n",
      " -2.19477847e-01 -5.79040051e-01 -6.25955760e-02 -8.43321905e-02\n",
      " -1.17456086e-01 -4.17025596e-01  3.01305987e-02  8.25476348e-01\n",
      " -1.49307668e-01 -1.98727340e-01 -5.74363828e-01  1.00279009e+00\n",
      "  3.42301250e-01 -3.54062796e-01  1.28193423e-01  4.02434975e-01\n",
      "  1.43907294e-01 -1.91149190e-01  4.71573994e-02 -9.11640882e-01\n",
      " -1.05879225e-01 -1.31337613e-01  4.05206829e-01  4.82815981e-01\n",
      " -5.48335731e-01 -7.33755231e-02  1.47486305e+00 -8.86626780e-01\n",
      " -3.41120273e-01  1.99972391e-01 -2.43219540e-01  1.06818773e-01\n",
      "  9.08540711e-02 -8.25740218e-01 -6.38156950e-01 -1.49752831e+00\n",
      " -6.35467589e-01  4.50879127e-01 -5.53431869e-01 -6.84664235e-04\n",
      "  5.65175116e-02  3.29450220e-01  9.89170372e-02  1.77597582e-01\n",
      " -1.98770598e-01  6.49207115e-01  6.04685903e-01 -6.48775518e-01\n",
      "  8.77274573e-02  1.42299330e+00 -3.58967543e-01  2.66213089e-01\n",
      " -2.47746184e-01 -2.94958383e-01 -3.04397762e-01 -2.92131543e-01\n",
      " -1.02685118e+00 -1.31354368e+00 -2.81848073e-01 -5.12925088e-01\n",
      " -5.75421751e-01 -6.46397412e-01 -5.37252545e-01  3.58076215e-01]\n"
     ]
    }
   ],
   "source": [
    "print(bert_vec_train[0])"
   ]
  },
  {
   "cell_type": "code",
   "execution_count": 20,
   "id": "734234db",
   "metadata": {},
   "outputs": [],
   "source": [
    "ref_vec = bert_vec_train[-1]"
   ]
  },
  {
   "cell_type": "code",
   "execution_count": 24,
   "id": "3931a8a4",
   "metadata": {},
   "outputs": [],
   "source": [
    "from sklearn.metrics.pairwise import cosine_similarity"
   ]
  },
  {
   "cell_type": "code",
   "execution_count": 32,
   "id": "3fe596a1",
   "metadata": {},
   "outputs": [
    {
     "name": "stdout",
     "output_type": "stream",
     "text": [
      "     CandidateID\n",
      "0  candidate_014\n",
      "1  candidate_098\n",
      "2  candidate_075\n",
      "3  candidate_016\n",
      "4  candidate_131\n",
      "   Match Percentage\n",
      "0             81.75\n",
      "1             87.23\n",
      "2             84.01\n",
      "3             83.86\n",
      "4             82.49\n",
      "(60, 2)\n"
     ]
    },
    {
     "data": {
      "text/html": [
       "<div>\n",
       "<style scoped>\n",
       "    .dataframe tbody tr th:only-of-type {\n",
       "        vertical-align: middle;\n",
       "    }\n",
       "\n",
       "    .dataframe tbody tr th {\n",
       "        vertical-align: top;\n",
       "    }\n",
       "\n",
       "    .dataframe thead th {\n",
       "        text-align: right;\n",
       "    }\n",
       "</style>\n",
       "<table border=\"1\" class=\"dataframe\">\n",
       "  <thead>\n",
       "    <tr style=\"text-align: right;\">\n",
       "      <th></th>\n",
       "      <th>CandidateID</th>\n",
       "      <th>Match Percentage</th>\n",
       "    </tr>\n",
       "  </thead>\n",
       "  <tbody>\n",
       "    <tr>\n",
       "      <th>0</th>\n",
       "      <td>candidate_014</td>\n",
       "      <td>81.75</td>\n",
       "    </tr>\n",
       "    <tr>\n",
       "      <th>1</th>\n",
       "      <td>candidate_098</td>\n",
       "      <td>87.23</td>\n",
       "    </tr>\n",
       "    <tr>\n",
       "      <th>2</th>\n",
       "      <td>candidate_075</td>\n",
       "      <td>84.01</td>\n",
       "    </tr>\n",
       "    <tr>\n",
       "      <th>3</th>\n",
       "      <td>candidate_016</td>\n",
       "      <td>83.86</td>\n",
       "    </tr>\n",
       "    <tr>\n",
       "      <th>4</th>\n",
       "      <td>candidate_131</td>\n",
       "      <td>82.49</td>\n",
       "    </tr>\n",
       "  </tbody>\n",
       "</table>\n",
       "</div>"
      ],
      "text/plain": [
       "     CandidateID  Match Percentage\n",
       "0  candidate_014             81.75\n",
       "1  candidate_098             87.23\n",
       "2  candidate_075             84.01\n",
       "3  candidate_016             83.86\n",
       "4  candidate_131             82.49"
      ]
     },
     "execution_count": 32,
     "metadata": {},
     "output_type": "execute_result"
    }
   ],
   "source": [
    "test_data_similarity = []\n",
    "\n",
    "for i in bert_vec_test:\n",
    "    test_data_similarity.append(round(cosine_similarity([ref_vec],[i])[0][0]*100,2))\n",
    "    \n",
    "test_data = pd.read_csv(\"../dataset/test.csv\")\n",
    "print(test_data.head())\n",
    "\n",
    "label_pd = pd.DataFrame(test_data_similarity,columns=['Match Percentage'])\n",
    "print(label_pd.head())\n",
    "\n",
    "My_pd = pd.concat([test_data,label_pd],axis=1)\n",
    "print(My_pd.shape)\n",
    "My_pd.head()"
   ]
  },
  {
   "cell_type": "code",
   "execution_count": 33,
   "id": "2cb24412",
   "metadata": {},
   "outputs": [],
   "source": [
    "My_pd.to_csv(\"submission.csv\",index=False)"
   ]
  },
  {
   "cell_type": "code",
   "execution_count": 34,
   "id": "b43bfc5c",
   "metadata": {},
   "outputs": [],
   "source": [
    "import pickle"
   ]
  },
  {
   "cell_type": "code",
   "execution_count": 35,
   "id": "66031fe1",
   "metadata": {},
   "outputs": [],
   "source": [
    "pickle.dump(sbert_model,open('bertFeature.pkl','wb'))"
   ]
  }
 ],
 "metadata": {
  "kernelspec": {
   "display_name": "Python 3",
   "language": "python",
   "name": "python3"
  },
  "language_info": {
   "codemirror_mode": {
    "name": "ipython",
    "version": 3
   },
   "file_extension": ".py",
   "mimetype": "text/x-python",
   "name": "python",
   "nbconvert_exporter": "python",
   "pygments_lexer": "ipython3",
   "version": "3.8.8"
  }
 },
 "nbformat": 4,
 "nbformat_minor": 5
}
