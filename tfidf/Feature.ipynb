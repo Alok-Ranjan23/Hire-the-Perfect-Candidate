{
 "cells": [
  {
   "cell_type": "code",
   "execution_count": 2,
   "id": "d2b64bb3",
   "metadata": {},
   "outputs": [
    {
     "name": "stdout",
     "output_type": "stream",
     "text": [
      "machine learn engineering 13585abc knowledge innovation youll focus research building design selfrunning artificial intelligence ai system automate predictive model responsible design create ai algorithm capable learn make prediction define machine learn ml experience qualification  bachelor master degree mention course per requirement  02 year work experience provide analytics solution commercial set technical expertise must  machine learn cluster logistic regression classification  different library scikit learn numpy panda matplotlib seaborn  deep learning framework tensorflow kera pytorch application neural network model cnn rnn gans  familiar natural language processing associate library like nltk spacy beautiful soup  pyspark hadoop big data pipeline  data science methodology exploratory data analysis feature engineering model selection deployment model scale model evaluation  deploy nlp architecture computer vision model production consider plus  transformer advance technique nlp  familiar computer vision model object detection ocr opencv  analytical tool reduce medium data transfer  web framework like django database like mongodb nosql graphql  sql firebase aws azure google cloud platform job type full time\n"
     ]
    }
   ],
   "source": [
    "import pandas as pd\n",
    "import numpy as np\n",
    "from processing import train_data,test_data, job_req\n",
    "import re\n",
    "#from sklearn.feature_extraction.text import TFidfVectorizer\n",
    "#from sklearn.metrics.pairwise import cosine_similarity"
   ]
  },
  {
   "cell_type": "code",
   "execution_count": 3,
   "id": "8535a7bf",
   "metadata": {},
   "outputs": [
    {
     "name": "stdout",
     "output_type": "stream",
     "text": [
      "machine learn engineering 13585abc knowledge innovation youll focus research building design selfrunning artificial intelligence ai system automate predictive model responsible design create ai algorithm capable learn make prediction define machine learn ml experience qualification  bachelor master degree mention course per requirement  02 year work experience provide analytics solution commercial set technical expertise must  machine learn cluster logistic regression classification  different library scikit learn numpy panda matplotlib seaborn  deep learning framework tensorflow kera pytorch application neural network model cnn rnn gans  familiar natural language processing associate library like nltk spacy beautiful soup  pyspark hadoop big data pipeline  data science methodology exploratory data analysis feature engineering model selection deployment model scale model evaluation  deploy nlp architecture computer vision model production consider plus  transformer advance technique nlp  familiar computer vision model object detection ocr opencv  analytical tool reduce medium data transfer  web framework like django database like mongodb nosql graphql  sql firebase aws azure google cloud platform job type full time\n"
     ]
    }
   ],
   "source": [
    "print(job_req)"
   ]
  },
  {
   "cell_type": "code",
   "execution_count": 4,
   "id": "3fdb9b2d",
   "metadata": {},
   "outputs": [],
   "source": [
    "import sklearn"
   ]
  },
  {
   "cell_type": "code",
   "execution_count": 5,
   "id": "23a6966c",
   "metadata": {},
   "outputs": [],
   "source": [
    "import sklearn.feature_extraction.text as extract_feature"
   ]
  },
  {
   "cell_type": "code",
   "execution_count": 6,
   "id": "097564e0",
   "metadata": {},
   "outputs": [],
   "source": [
    "doc_cleaned_train = pd.DataFrame(train_data,columns=['documents'])\n",
    "doc_cleaned_test = pd.DataFrame(test_data,columns=['documents'])"
   ]
  },
  {
   "cell_type": "code",
   "execution_count": 7,
   "id": "be9b3ca4",
   "metadata": {},
   "outputs": [
    {
     "name": "stdout",
     "output_type": "stream",
     "text": [
      "Size:  (90, 1)\n",
      "Size:  (60, 1)\n"
     ]
    }
   ],
   "source": [
    "print(\"Size: \", doc_cleaned_train.shape)\n",
    "print(\"Size: \", doc_cleaned_test.shape)"
   ]
  },
  {
   "cell_type": "code",
   "execution_count": 8,
   "id": "08959ca4",
   "metadata": {},
   "outputs": [],
   "source": [
    "doc_cleaned_trainX = doc_cleaned_train.append(pd.DataFrame([job_req],\n",
    "                                                          columns=['documents']),ignore_index=True)"
   ]
  },
  {
   "cell_type": "code",
   "execution_count": 9,
   "id": "4dbaabe6",
   "metadata": {},
   "outputs": [
    {
     "data": {
      "text/plain": [
       "(91, 1)"
      ]
     },
     "execution_count": 9,
     "metadata": {},
     "output_type": "execute_result"
    }
   ],
   "source": [
    "doc_cleaned_trainX.shape"
   ]
  },
  {
   "cell_type": "code",
   "execution_count": 10,
   "id": "ac56eda9",
   "metadata": {},
   "outputs": [
    {
     "data": {
      "text/html": [
       "<div>\n",
       "<style scoped>\n",
       "    .dataframe tbody tr th:only-of-type {\n",
       "        vertical-align: middle;\n",
       "    }\n",
       "\n",
       "    .dataframe tbody tr th {\n",
       "        vertical-align: top;\n",
       "    }\n",
       "\n",
       "    .dataframe thead th {\n",
       "        text-align: right;\n",
       "    }\n",
       "</style>\n",
       "<table border=\"1\" class=\"dataframe\">\n",
       "  <thead>\n",
       "    <tr style=\"text-align: right;\">\n",
       "      <th></th>\n",
       "      <th>documents</th>\n",
       "    </tr>\n",
       "  </thead>\n",
       "  <tbody>\n",
       "    <tr>\n",
       "      <th>86</th>\n",
       "      <td>shawn buffet professional profile employment h...</td>\n",
       "    </tr>\n",
       "    <tr>\n",
       "      <th>87</th>\n",
       "      <td>work experience hsbc bank data analyst apr 202...</td>\n",
       "    </tr>\n",
       "    <tr>\n",
       "      <th>88</th>\n",
       "      <td>stella thatcher executive profile work experie...</td>\n",
       "    </tr>\n",
       "    <tr>\n",
       "      <th>89</th>\n",
       "      <td>work experience hcl junior sdedata machine lea...</td>\n",
       "    </tr>\n",
       "    <tr>\n",
       "      <th>90</th>\n",
       "      <td>machine learn engineering 13585abc knowledge i...</td>\n",
       "    </tr>\n",
       "  </tbody>\n",
       "</table>\n",
       "</div>"
      ],
      "text/plain": [
       "                                            documents\n",
       "86  shawn buffet professional profile employment h...\n",
       "87  work experience hsbc bank data analyst apr 202...\n",
       "88  stella thatcher executive profile work experie...\n",
       "89  work experience hcl junior sdedata machine lea...\n",
       "90  machine learn engineering 13585abc knowledge i..."
      ]
     },
     "execution_count": 10,
     "metadata": {},
     "output_type": "execute_result"
    }
   ],
   "source": [
    "doc_cleaned_trainX.tail()"
   ]
  },
  {
   "cell_type": "code",
   "execution_count": 11,
   "id": "3c9abdd9",
   "metadata": {},
   "outputs": [],
   "source": [
    "tfidfvectorizer = extract_feature.TfidfVectorizer()"
   ]
  },
  {
   "cell_type": "code",
   "execution_count": 12,
   "id": "1063a17d",
   "metadata": {},
   "outputs": [],
   "source": [
    "tfidf_vectors = tfidfvectorizer.fit_transform(doc_cleaned_trainX['documents'])"
   ]
  },
  {
   "cell_type": "code",
   "execution_count": 13,
   "id": "2b69fa42",
   "metadata": {},
   "outputs": [
    {
     "data": {
      "text/plain": [
       "scipy.sparse.csr.csr_matrix"
      ]
     },
     "execution_count": 13,
     "metadata": {},
     "output_type": "execute_result"
    }
   ],
   "source": [
    "type(tfidf_vectors)"
   ]
  },
  {
   "cell_type": "code",
   "execution_count": 14,
   "id": "6fa7ecf6",
   "metadata": {},
   "outputs": [
    {
     "name": "stdout",
     "output_type": "stream",
     "text": [
      "  (0, 1750)\t0.1640082159775227\n",
      "  (0, 908)\t0.10314983990871911\n",
      "  (0, 733)\t0.1640082159775227\n",
      "  (0, 247)\t0.15023630716062333\n",
      "  (0, 1728)\t0.07560602227492039\n",
      "  (0, 1897)\t0.1640082159775227\n",
      "  (0, 1484)\t0.1640082159775227\n",
      "  (0, 1846)\t0.04905500995426563\n",
      "  (0, 509)\t0.1640082159775227\n",
      "  (0, 1619)\t0.1640082159775227\n",
      "  (0, 1443)\t0.1640082159775227\n",
      "  (0, 1397)\t0.05400421455166858\n",
      "  (0, 24)\t0.09791400317655394\n",
      "  (0, 210)\t0.11692174872561846\n",
      "  (0, 1353)\t0.11292116471777186\n",
      "  (0, 1364)\t0.1404649823515706\n",
      "  (0, 656)\t0.10043113280052668\n",
      "  (0, 1402)\t0.04373703120770415\n",
      "  (0, 1425)\t0.08180983191886636\n",
      "  (0, 1269)\t0.15023630716062333\n",
      "  (0, 1600)\t0.13288575400287972\n",
      "  (0, 1674)\t0.06777612336856793\n",
      "  (0, 1167)\t0.12145723680250604\n",
      "  (0, 1361)\t0.09337851509966635\n",
      "  (0, 1165)\t0.052697680150823586\n",
      "  :\t:\n",
      "  (90, 1386)\t0.043587720187818285\n",
      "  (90, 1027)\t0.044891966734010434\n",
      "  (90, 1208)\t0.045574045056272716\n",
      "  (90, 915)\t0.048533874724118534\n",
      "  (90, 129)\t0.0549105769827736\n",
      "  (90, 1214)\t0.055992049830239664\n",
      "  (90, 1216)\t0.06093820436653991\n",
      "  (90, 478)\t0.036129545081697155\n",
      "  (90, 1568)\t0.03752995575461767\n",
      "  (90, 485)\t0.07369160888385004\n",
      "  (90, 1118)\t0.08267906593546218\n",
      "  (90, 967)\t0.08672036845077405\n",
      "  (90, 1728)\t0.049339992521970716\n",
      "  (90, 1674)\t0.0442302520295739\n",
      "  (90, 1361)\t0.06093820436653991\n",
      "  (90, 1165)\t0.24073111459013136\n",
      "  (90, 1479)\t0.053879423785622556\n",
      "  (90, 1038)\t0.114503207617089\n",
      "  (90, 1082)\t0.0687019245702534\n",
      "  (90, 453)\t0.09672903344895686\n",
      "  (90, 604)\t0.09551209534443664\n",
      "  (90, 1506)\t0.09804322524572935\n",
      "  (90, 1094)\t0.06093820436653991\n",
      "  (90, 641)\t0.06795166642340705\n",
      "  (90, 1909)\t0.02759913095304846\n"
     ]
    }
   ],
   "source": [
    "print(tfidf_vectors)"
   ]
  },
  {
   "cell_type": "code",
   "execution_count": 15,
   "id": "660d7f2e",
   "metadata": {},
   "outputs": [
    {
     "data": {
      "text/plain": [
       "list"
      ]
     },
     "execution_count": 15,
     "metadata": {},
     "output_type": "execute_result"
    }
   ],
   "source": [
    "type(train_data)"
   ]
  },
  {
   "cell_type": "code",
   "execution_count": 16,
   "id": "d6bfc55c",
   "metadata": {},
   "outputs": [
    {
     "name": "stdout",
     "output_type": "stream",
     "text": [
      "(91, 1931)\n"
     ]
    }
   ],
   "source": [
    "print(tfidf_vectors.shape)"
   ]
  },
  {
   "cell_type": "code",
   "execution_count": 17,
   "id": "540e3b7f",
   "metadata": {},
   "outputs": [],
   "source": [
    "ref_vec=tfidf_vectors[90]"
   ]
  },
  {
   "cell_type": "code",
   "execution_count": 18,
   "id": "f65af791",
   "metadata": {},
   "outputs": [],
   "source": [
    "test_vec=tfidfvectorizer.transform(doc_cleaned_test['documents'])"
   ]
  },
  {
   "cell_type": "code",
   "execution_count": 19,
   "id": "4845f1b1",
   "metadata": {},
   "outputs": [
    {
     "name": "stdout",
     "output_type": "stream",
     "text": [
      "(60, 1931)\n"
     ]
    }
   ],
   "source": [
    "print(test_vec.shape)"
   ]
  },
  {
   "cell_type": "code",
   "execution_count": 20,
   "id": "3fe596a1",
   "metadata": {},
   "outputs": [
    {
     "name": "stdout",
     "output_type": "stream",
     "text": [
      "     CandidateID\n",
      "0  candidate_014\n",
      "1  candidate_098\n",
      "2  candidate_075\n",
      "3  candidate_016\n",
      "4  candidate_131\n",
      "   Match Percentage\n",
      "0             14.58\n",
      "1             15.07\n",
      "2             14.12\n",
      "3             17.53\n",
      "4              7.39\n"
     ]
    },
    {
     "data": {
      "text/html": [
       "<div>\n",
       "<style scoped>\n",
       "    .dataframe tbody tr th:only-of-type {\n",
       "        vertical-align: middle;\n",
       "    }\n",
       "\n",
       "    .dataframe tbody tr th {\n",
       "        vertical-align: top;\n",
       "    }\n",
       "\n",
       "    .dataframe thead th {\n",
       "        text-align: right;\n",
       "    }\n",
       "</style>\n",
       "<table border=\"1\" class=\"dataframe\">\n",
       "  <thead>\n",
       "    <tr style=\"text-align: right;\">\n",
       "      <th></th>\n",
       "      <th>CandidateID</th>\n",
       "      <th>Match Percentage</th>\n",
       "    </tr>\n",
       "  </thead>\n",
       "  <tbody>\n",
       "    <tr>\n",
       "      <th>0</th>\n",
       "      <td>candidate_014</td>\n",
       "      <td>14.58</td>\n",
       "    </tr>\n",
       "    <tr>\n",
       "      <th>1</th>\n",
       "      <td>candidate_098</td>\n",
       "      <td>15.07</td>\n",
       "    </tr>\n",
       "    <tr>\n",
       "      <th>2</th>\n",
       "      <td>candidate_075</td>\n",
       "      <td>14.12</td>\n",
       "    </tr>\n",
       "    <tr>\n",
       "      <th>3</th>\n",
       "      <td>candidate_016</td>\n",
       "      <td>17.53</td>\n",
       "    </tr>\n",
       "    <tr>\n",
       "      <th>4</th>\n",
       "      <td>candidate_131</td>\n",
       "      <td>7.39</td>\n",
       "    </tr>\n",
       "  </tbody>\n",
       "</table>\n",
       "</div>"
      ],
      "text/plain": [
       "     CandidateID  Match Percentage\n",
       "0  candidate_014             14.58\n",
       "1  candidate_098             15.07\n",
       "2  candidate_075             14.12\n",
       "3  candidate_016             17.53\n",
       "4  candidate_131              7.39"
      ]
     },
     "execution_count": 20,
     "metadata": {},
     "output_type": "execute_result"
    }
   ],
   "source": [
    "test_data_similarity = []\n",
    "\n",
    "for i in test_vec:\n",
    "    test_data_similarity.append(round(np.dot(ref_vec,i.T).toarray()[0][0]*100,2))\n",
    "\n",
    "test_data = pd.read_csv(\"../dataset/test.csv\")\n",
    "print(test_data.head())\n",
    "\n",
    "label_pd = pd.DataFrame(test_data_similarity,columns=['Match Percentage'])\n",
    "print(label_pd.head())\n",
    "\n",
    "My_pd = pd.concat([test_data,label_pd],axis=1)\n",
    "My_pd.head()"
   ]
  },
  {
   "cell_type": "code",
   "execution_count": 21,
   "id": "2cb24412",
   "metadata": {},
   "outputs": [],
   "source": [
    "My_pd.to_csv(\"submission.csv\",index=False)"
   ]
  },
  {
   "cell_type": "code",
   "execution_count": 22,
   "id": "b43bfc5c",
   "metadata": {},
   "outputs": [],
   "source": [
    "import pickle"
   ]
  },
  {
   "cell_type": "code",
   "execution_count": 23,
   "id": "66031fe1",
   "metadata": {},
   "outputs": [],
   "source": [
    "pickle.dump(tfidfvectorizer,open('tfidf.pkl','wb'))"
   ]
  },
  {
   "cell_type": "code",
   "execution_count": null,
   "id": "c33cf29c",
   "metadata": {},
   "outputs": [],
   "source": []
  }
 ],
 "metadata": {
  "kernelspec": {
   "display_name": "Python 3",
   "language": "python",
   "name": "python3"
  },
  "language_info": {
   "codemirror_mode": {
    "name": "ipython",
    "version": 3
   },
   "file_extension": ".py",
   "mimetype": "text/x-python",
   "name": "python",
   "nbconvert_exporter": "python",
   "pygments_lexer": "ipython3",
   "version": "3.8.8"
  }
 },
 "nbformat": 4,
 "nbformat_minor": 5
}
